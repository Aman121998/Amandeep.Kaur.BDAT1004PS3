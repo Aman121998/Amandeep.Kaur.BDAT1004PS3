{
 "cells": [
  {
   "cell_type": "code",
   "execution_count": 1,
   "id": "0a33cdbc",
   "metadata": {},
   "outputs": [
    {
     "data": {
      "text/plain": [
       "order_id                int64\n",
       "quantity                int64\n",
       "item_name              object\n",
       "choice_description     object\n",
       "item_price            float64\n",
       "dtype: object"
      ]
     },
     "execution_count": 1,
     "metadata": {},
     "output_type": "execute_result"
    }
   ],
   "source": [
    "#!/usr/bin/env python\n",
    "# coding: utf-8\n",
    "\n",
    "#                                                      Question 5\n",
    "\n",
    "# In[8]:\n",
    "\n",
    "\n",
    "import pandas as pd\n",
    "import numpy as np\n",
    "\n",
    "chipo = pd.read_table(\"https://raw.githubusercontent.com/justmarkham/DAT8/master/data/chipotle.tsv\")\n",
    "chipo.head(10)\n",
    "\n",
    "\n",
    "#  Que1: What is the number of observations in the dataset?\n",
    "#  Ans: 10 observeations\n",
    "#  Que2: What is the number of columns in the dataset?\n",
    "#  Ans:there are 5 colums in the dataset.\n",
    "# \n",
    "\n",
    "# In[6]:\n",
    "\n",
    "\n",
    "chipo.columns.values.tolist()\n",
    "\n",
    "\n",
    "# Que3: How is the dataset indexed?\n",
    "# Ans:as indexed in the dataset accordinhg to order_id.\n",
    "# \n",
    "# Que4:Which was the most-ordered item?\n",
    "# Ans: Steak Burrito\n",
    "# \n",
    "# Que5: For the most-ordered item, how many items were ordered?\n",
    "# Ans: 9\n",
    "# \n",
    "# Que6: What was the most ordered item in the choice_description column?\n",
    "# Ans: Tomatillo Red Chili Salsa\n",
    "# \n",
    "# Ques7:How many items were orderd in total?\n",
    "# Ans:4622\n",
    "\n",
    "# In[2]:\n",
    "\n",
    "\n",
    "chipo[\"item_price\"]\n",
    "chipo.dtypes\n",
    "\n",
    "\n",
    "# In[12]:\n",
    "\n",
    "\n",
    "chipo[\"item_price\"] = pd.to_numeric(chipo[\"item_price\"], errors='coerce')\n",
    "chipo.dtypes\n",
    "\n",
    "\n",
    "# In[15]:\n",
    "\n",
    "\n",
    "lambda x: int('item_price') if isinstance('item_price', float) else int\n",
    "\n",
    "\n",
    "# In[16]:\n",
    "\n",
    "\n",
    "chipo.dtypes\n",
    "\n",
    "\n",
    "# ques:14. How much was the revenue for the period in the dataset?\n",
    "# Ans:468 \n",
    "# Ques: 15. How many orders were made in the period?\n",
    "# Ans:60\n",
    "# Ques: 16. What is the average revenue amount per order?\n",
    "# Ans:$2.00\n",
    "# Ques: 17. How many different items are sold?\n",
    "# Ans:60\n"
   ]
  },
  {
   "cell_type": "code",
   "execution_count": null,
   "id": "5ff6ee93",
   "metadata": {},
   "outputs": [],
   "source": []
  }
 ],
 "metadata": {
  "kernelspec": {
   "display_name": "Python 3 (ipykernel)",
   "language": "python",
   "name": "python3"
  },
  "language_info": {
   "codemirror_mode": {
    "name": "ipython",
    "version": 3
   },
   "file_extension": ".py",
   "mimetype": "text/x-python",
   "name": "python",
   "nbconvert_exporter": "python",
   "pygments_lexer": "ipython3",
   "version": "3.9.12"
  }
 },
 "nbformat": 4,
 "nbformat_minor": 5
}
