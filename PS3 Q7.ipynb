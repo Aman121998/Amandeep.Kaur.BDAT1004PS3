{
 "cells": [
  {
   "cell_type": "code",
   "execution_count": 2,
   "id": "645137cf",
   "metadata": {},
   "outputs": [
    {
     "data": {
      "image/png": "[encoded data removed]",
      "text/plain": [
       "<Figure size 432x288 with 1 Axes>"
      ]
     },
     "metadata": {
      "needs_background": "light"
     },
     "output_type": "display_data"
    }
   ],
   "source": [
    "#!/usr/bin/env python\n",
    "# coding: utf-8\n",
    "\n",
    "#                                                                                          Question 7\n",
    "\n",
    "# In[6]:\n",
    "\n",
    "\n",
    "import matplotlib.pyplot as plt\n",
    "import pandas as pd\n",
    "  \n",
    "  \n",
    "# Initialize the lists for X and Y\n",
    "data = pd.read_csv('C:\\\\Users\\\\DELL\\\\Downloads\\\\us-marriages-divorces-1867-2014.csv')\n",
    "  \n",
    "df = pd.DataFrame(data)\n",
    "  \n",
    "X = list(df.iloc[:, 4])\n",
    "Y = list(df.iloc[:, 5])\n",
    "  \n",
    "# Plot the data using bar() method\n",
    "plt.bar(X, Y, color='b')\n",
    "plt.title(\"Comparison of marriges and Devorces\")\n",
    "plt.xlabel(\" number of marriages\")\n",
    "plt.ylabel(\"Devorces per Capita \")\n",
    "\n",
    "# Show the plot\n",
    "plt.show()\n",
    "\n",
    "\n",
    "# In[ ]:\n",
    "\n",
    "\n",
    "\n",
    "\n"
   ]
  },
  {
   "cell_type": "code",
   "execution_count": null,
   "id": "be0a1517",
   "metadata": {},
   "outputs": [],
   "source": []
  }
 ],
 "metadata": {
  "kernelspec": {
   "display_name": "Python 3 (ipykernel)",
   "language": "python",
   "name": "python3"
  },
  "language_info": {
   "codemirror_mode": {
    "name": "ipython",
    "version": 3
   },
   "file_extension": ".py",
   "mimetype": "text/x-python",
   "name": "python",
   "nbconvert_exporter": "python",
   "pygments_lexer": "ipython3",
   "version": "3.9.12"
  }
 },
 "nbformat": 4,
 "nbformat_minor": 5
}
